{
  "cells": [
    {
      "cell_type": "code",
      "execution_count": 4,
      "metadata": {
        "colab": {
          "base_uri": "https://localhost:8080/"
        },
        "id": "ULqS1lET0-Db",
        "outputId": "812819e2-205a-4cb6-f243-a055b9c9f768"
      },
      "outputs": [
        {
          "name": "stdout",
          "output_type": "stream",
          "text": [
            "Collecting pulp\n",
            "  Downloading PuLP-2.7.0-py3-none-any.whl (14.3 MB)\n",
            "\u001b[2K     \u001b[90m━━━━━━━━━━━━━━━━━━━━━━━━━━━━━━━━━━━━━━━━\u001b[0m \u001b[32m14.3/14.3 MB\u001b[0m \u001b[31m28.6 MB/s\u001b[0m eta \u001b[36m0:00:00\u001b[0m\n",
            "\u001b[?25hInstalling collected packages: pulp\n",
            "Successfully installed pulp-2.7.0\n"
          ]
        }
      ],
      "source": [
        "pip install pulp"
      ]
    },
    {
      "cell_type": "markdown",
      "metadata": {},
      "source": [
        "\n"
      ]
    },
    {
      "cell_type": "markdown",
      "metadata": {
        "id": "P28dTVA7uywP"
      },
      "source": [
        "QUESTION 1\n",
        "\n",
        "---\n",
        "\n",
        "\n"
      ]
    },
    {
      "cell_type": "code",
      "execution_count": 6,
      "metadata": {
        "colab": {
          "base_uri": "https://localhost:8080/"
        },
        "id": "vpjBlmDxpWT-",
        "outputId": "80b9b90c-ce4a-4ea8-96bb-4b9550992f18"
      },
      "outputs": [
        {
          "name": "stdout",
          "output_type": "stream",
          "text": [
            "Total Minimized Distance: 409.0\n",
            "\n",
            "Market M1 is served by Warehouse A\n",
            "Market M2 is served by Warehouse B\n",
            "Market M3 is served by Warehouse A\n",
            "Market M4 is served by Warehouse D\n",
            "Market M5 is served by Warehouse A\n",
            "Market M6 is served by Warehouse C\n",
            "Market M7 is served by Warehouse D\n",
            "Market M8 is served by Warehouse C\n",
            "Market M9 is served by Warehouse B\n",
            "Market M10 is served by Warehouse B\n"
          ]
        }
      ],
      "source": [
        "\n",
        "from pulp import LpProblem, LpMinimize, LpVariable, lpSum\n",
        "\n",
        "# Create a problem variable\n",
        "problem_transportation = LpProblem(\"Warehouse_MarketOptimization\", LpMinimize)\n",
        "\n",
        "# Define the warehouses, fruits, markets, and distances\n",
        "warehouses = ['A', 'B', 'C', 'D']\n",
        "markets = ['M1', 'M2', 'M3', 'M4', 'M5', 'M6', 'M7', 'M8', 'M9', 'M10']\n",
        "fruits = ['Lemon', 'Tangerine', 'Orange', 'Apple', 'Banana']\n",
        "distances = {\n",
        "    ('A', 'M1'): 2, ('A', 'M2'): 5, ('A', 'M3'): 4, ('A', 'M4'): 3, ('A', 'M5'): 4, ('A', 'M6'): 3, ('A', 'M7'): 1, ('A', 'M8'): 2, ('A', 'M9'): 6, ('A', 'M10'): 3,\n",
        "    ('B', 'M1'): 5, ('B', 'M2'): 3, ('B', 'M3'): 4, ('B', 'M4'): 2, ('B', 'M5'): 5, ('B', 'M6'): 4, ('B', 'M7'): 6, ('B', 'M8'): 4, ('B', 'M9'): 2, ('B', 'M10'): 1,\n",
        "    ('C', 'M1'): 3, ('C', 'M2'): 4, ('C', 'M3'): 2, ('C', 'M4'): 5, ('C', 'M5'): 4, ('C', 'M6'): 4, ('C', 'M7'): 2, ('C', 'M8'): 5, ('C', 'M9'): 7, ('C', 'M10'): 2,\n",
        "    ('D', 'M1'): 4, ('D', 'M2'): 2, ('D', 'M3'): 1, ('D', 'M4'): 1, ('D', 'M5'): 2, ('D', 'M6'): 3, ('D', 'M7'): 5, ('D', 'M8'): 3, ('D', 'M9'): 5, ('D', 'M10'): 2,\n",
        "}\n",
        "\n",
        "# Define the number of pieces that fit in a case for each fruit\n",
        "capacity = {\n",
        "    'Lemon': 50,\n",
        "    'Tangerine': 40,\n",
        "    'Orange': 20,\n",
        "    'Apple': 30,\n",
        "    'Banana': 20,\n",
        "}\n",
        "\n",
        "# Define the demand for each market\n",
        "demand = {\n",
        "    'M1': {'Lemon': 150, 'Tangerine': 80, 'Orange': 80, 'Apple': 0, 'Banana': 0},\n",
        "    'M2': {'Lemon': 200, 'Tangerine': 200, 'Orange': 200, 'Apple': 30, 'Banana': 40},\n",
        "    'M3': {'Lemon': 0, 'Tangerine': 120, 'Orange': 100, 'Apple': 60, 'Banana': 0},\n",
        "    'M4': {'Lemon': 0, 'Tangerine': 0, 'Orange': 0, 'Apple': 150, 'Banana': 100},\n",
        "    'M5': {'Lemon': 200, 'Tangerine': 200, 'Orange': 0, 'Apple': 0, 'Banana': 0},\n",
        "    'M6': {'Lemon': 100, 'Tangerine': 80, 'Orange': 100, 'Apple': 120, 'Banana': 0},\n",
        "    'M7': {'Lemon': 0, 'Tangerine': 0, 'Orange': 0, 'Apple': 300, 'Banana': 200},\n",
        "    'M8': {'Lemon': 0, 'Tangerine': 0, 'Orange': 0, 'Apple': 300, 'Banana': 100},\n",
        "    'M9': {'Lemon': 100, 'Tangerine': 0, 'Orange': 0, 'Apple': 60, 'Banana': 0},\n",
        "    'M10': {'Lemon': 150, 'Tangerine': 0, 'Orange': 0, 'Apple': 0, 'Banana': 20},\n",
        "}\n",
        "# Define decision variables\n",
        "x = LpVariable.dicts(\"Cases\", (warehouses, fruits, markets), 0, None, cat = 'Integer')\n",
        "\n",
        "y = LpVariable.dicts(\"Assign\", (warehouses, markets), cat = 'Binary')\n",
        "\n",
        "# Define the objective function\n",
        "problem_transportation += lpSum(distances[(w, m)] * x[w][f][m] for w in warehouses for f in fruits  for m in markets)\n",
        "\n",
        "# Demand constraints\n",
        "for m in markets:\n",
        "    for f in fruits:\n",
        "        problem_transportation += lpSum(x[w][f][m]*capacity[f] for w in warehouses) == demand[m][f]\n",
        "\n",
        "# Capacity constraints\n",
        "for w in warehouses:\n",
        "     problem_transportation += lpSum(x[w][f][m] for f in fruits for m in markets) <= 30\n",
        "\n",
        "\n",
        "# Specific warehouse constraints\n",
        "for m in markets:\n",
        "    problem_transportation += lpSum(x['D'][f][m] for f in ['Lemon', 'Tangerine', 'Orange']) == 0  # No Lemons, Tangerines, or Oranges in warehouse D\n",
        "    problem_transportation += x['A']['Banana'][m] == 0  # No Bananas in warehouse A\n",
        "\n",
        "# Each market can get service from only one warehouse\n",
        "for m in markets:\n",
        "    problem_transportation += lpSum(y[w][m] for w in warehouses) == 1\n",
        "\n",
        "# Additional constraint: If a warehouse serves a market, the number of cases of each fruit should be less than or equal to 30. This is for linking the variables\n",
        "for w in warehouses:\n",
        "    for m in markets:\n",
        "        for f in fruits:\n",
        "            problem_transportation += x[w][f][m] <= y[w][m] * 30\n",
        "\n",
        "\n",
        "\n",
        "\n",
        "# Solve the problem\n",
        "problem_transportation.solve()\n",
        "\n",
        "# Print the results\n",
        "print(\"Total Minimized Distance:\", problem_transportation.objective.value())\n",
        "\n",
        "print()\n",
        "\n",
        "for m in markets:\n",
        "    for w in warehouses:\n",
        "        if y[w][m].value() == 1:\n",
        "            print(f\"Market {m} is served by Warehouse {w}\")\n"
      ]
    },
    {
      "cell_type": "markdown",
      "metadata": {
        "id": "f1NQ0ePlYk1V"
      },
      "source": [
        "SUDOKU A"
      ]
    },
    {
      "cell_type": "code",
      "execution_count": 7,
      "metadata": {
        "colab": {
          "base_uri": "https://localhost:8080/"
        },
        "id": "58lp7bgBPNHe",
        "outputId": "929a9479-2e56-40bb-b659-1611fcb4a15b"
      },
      "outputs": [
        {
          "name": "stdout",
          "output_type": "stream",
          "text": [
            "[5, 3, 4, 6, 7, 8, 9, 1, 2]\n",
            "[6, 7, 2, 1, 9, 5, 3, 4, 8]\n",
            "[1, 9, 8, 3, 4, 2, 5, 6, 7]\n",
            "[8, 5, 9, 7, 6, 1, 4, 2, 3]\n",
            "[4, 2, 6, 8, 5, 3, 7, 9, 1]\n",
            "[7, 1, 3, 9, 2, 4, 8, 5, 6]\n",
            "[9, 6, 1, 5, 3, 7, 2, 8, 4]\n",
            "[2, 8, 7, 4, 1, 9, 6, 3, 5]\n",
            "[3, 4, 5, 2, 8, 6, 1, 7, 9]\n"
          ]
        }
      ],
      "source": [
        "\n",
        "# Importing necessary functions from the PuLP library\n",
        "from pulp import LpProblem, LpVariable, LpMaximize, lpSum, value\n",
        "\n",
        "# Sudoku problemini tanımlayan fonksiyon\n",
        "def solve_sudoku():\n",
        "    # Sudoku problemi\n",
        "    sudoku_problem = LpProblem(\"Sudoku_Problem\", sense=LpMaximize)\n",
        "\n",
        "    # Define the possible numbers, rows, and columns in the Sudoku puzzle\n",
        "    numbers = list(range(1, 10))\n",
        "    rows = list(range(1, 10))\n",
        "    cols = list(range(1, 10))\n",
        "\n",
        "    # Define decision variables as binary variables indicating the presence of a number in a cell\n",
        "    sudoku_vars = LpVariable.dicts(\"Number\", (numbers, rows, cols), cat=\"Binary\")\n",
        "\n",
        "    # Objective function\n",
        "    sudoku_problem = LpProblem(\"Sudoku_Problem\", sense=LpMaximize)\n",
        "\n",
        "\n",
        "    # Add constraints to ensure each number appears exactly once in each row, column, and 3x3 box\n",
        "    for i in rows:\n",
        "        for j in cols:\n",
        "            sudoku_problem += lpSum([sudoku_vars[num][i][j] for num in numbers]) == 1\n",
        "\n",
        "    for num in numbers:\n",
        "        for j in cols:\n",
        "            sudoku_problem += lpSum([sudoku_vars[num][i][j] for i in rows]) == 1\n",
        "\n",
        "    for num in numbers:\n",
        "        for i in rows:\n",
        "            sudoku_problem += lpSum([sudoku_vars[num][i][j] for j in cols]) == 1\n",
        "\n",
        "    for num in numbers:\n",
        "        for p in range(1, 4):\n",
        "            for q in range(1, 4):\n",
        "                sudoku_problem += lpSum([sudoku_vars[num][i][j] for i in range(3 * (p - 1) + 1, 3 * p + 1) for j in\n",
        "                                         range(3 * (q - 1) + 1, 3 * q + 1)]) == 1\n",
        "\n",
        "\n",
        "    # Specify the initial state of the Sudoku puzzle as a 9x9 grid\n",
        "    initial_state = [\n",
        "        [5, 3, 0, 0, 7, 0, 0, 0, 0],\n",
        "        [6, 0, 0, 1, 9, 5, 0, 0, 0],\n",
        "        [0, 9, 8, 0, 0, 0, 0, 6, 0],\n",
        "        [8, 0, 0, 0, 6, 0, 0, 0, 3],\n",
        "        [4, 0, 0, 8, 0, 3, 0, 0, 1],\n",
        "        [7, 0, 0, 0, 2, 0, 0, 0, 6],\n",
        "        [0, 6, 0, 0, 0, 0, 2, 8, 0],\n",
        "        [0, 0, 0, 4, 1, 9, 0, 0, 5],\n",
        "        [0, 0, 0, 0, 8, 0, 0, 7, 9]\n",
        "    ]\n",
        "\n",
        "    # Add constraints to fix the values in the initial state of the Sudoku puzzle\n",
        "    for i in rows:\n",
        "        for j in cols:\n",
        "            val = initial_state[i - 1][j - 1]\n",
        "            if val != 0:\n",
        "                sudoku_problem += sudoku_vars[val][i][j] == 1\n",
        "\n",
        "    # Solve the Sudoku problem\n",
        "    sudoku_problem.solve()\n",
        "\n",
        "    # Print the solved Sudoku puzzle\n",
        "    for i in rows:\n",
        "        row_values = []\n",
        "        for j in cols:\n",
        "            for num in numbers:\n",
        "                if value(sudoku_vars[num][i][j]) == 1:\n",
        "                    row_values.append(num)\n",
        "        print(row_values)\n",
        "\n",
        "\n",
        "\n",
        "# Call the solve_sudoku function to solve and print the Sudoku puzzle\n",
        "solve_sudoku()\n"
      ]
    },
    {
      "cell_type": "markdown",
      "metadata": {
        "id": "xBW3pXFaYpcm"
      },
      "source": [
        "SUDOKU B\n",
        "\n"
      ]
    },
    {
      "cell_type": "code",
      "execution_count": 5,
      "metadata": {
        "colab": {
          "base_uri": "https://localhost:8080/"
        },
        "id": "_mgtqZm7-U1n",
        "outputId": "e1384376-c056-4be1-8387-73ab93a52600"
      },
      "outputs": [
        {
          "name": "stdout",
          "output_type": "stream",
          "text": [
            "Sum of numbers in the middle box: 53.0\n",
            "\n",
            "[5, 3, 9, 6, 7, 4, 8, 1, 2]\n",
            "[6, 2, 3, 1, 9, 5, 7, 4, 8]\n",
            "[1, 9, 8, 3, 4, 2, 5, 6, 7]\n",
            "[8, 1, 2, 5, 6, 7, 4, 9, 3]\n",
            "[4, 7, 6, 8, 5, 3, 9, 2, 1]\n",
            "[7, 4, 1, 9, 2, 8, 3, 5, 6]\n",
            "[9, 6, 5, 7, 3, 1, 2, 8, 4]\n",
            "[2, 8, 7, 4, 1, 9, 6, 3, 5]\n",
            "[3, 5, 4, 2, 8, 6, 1, 7, 9]\n"
          ]
        }
      ],
      "source": [
        "# Importing necessary functions from the PuLP library\n",
        "from pulp import LpProblem, LpVariable, LpMaximize, lpSum, value\n",
        "\n",
        "# Function to solve a Sudoku puzzle using Linear Programming\n",
        "def solve_sudoku_middlebox():\n",
        "\n",
        "    # Create a Linear Programming problem with the objective of maximizing the sum of numbers in the middle box\n",
        "    sudoku_problem = LpProblem(\"Sudoku_Problem\", sense=LpMaximize)\n",
        "\n",
        "    # Define the possible numbers, rows, and columns in the Sudoku puzzle\n",
        "    numbers = list(range(1, 10))\n",
        "    rows = list(range(1, 10))\n",
        "    cols = list(range(1, 10))\n",
        "\n",
        "    # Define decision variables as binary variables indicating the presence of a number in a cell\n",
        "    sudoku_vars = LpVariable.dicts(\"Number\", (numbers, rows, cols), cat=\"Binary\")\n",
        "\n",
        "    # Set the objective function to maximize the sum of numbers in the middle 3x3 box\n",
        "    sudoku_problem += lpSum([sudoku_vars[num][i][j] * num for num in numbers for i in range(4, 7) for j in range(4, 7)])\n",
        "\n",
        "    # Add constraints to ensure each number appears exactly once in each row, column\n",
        "    for i in rows:\n",
        "        for j in cols:\n",
        "            sudoku_problem += lpSum([sudoku_vars[num][i][j] for num in numbers]) == 1\n",
        "\n",
        "    for num in numbers:\n",
        "        for j in cols:\n",
        "            sudoku_problem += lpSum([sudoku_vars[num][i][j] for i in rows]) == 1\n",
        "\n",
        "    for num in numbers:\n",
        "        for i in rows:\n",
        "            sudoku_problem += lpSum([sudoku_vars[num][i][j] for j in cols]) == 1\n",
        "\n",
        "    # Specify the initial state of the Sudoku puzzle as a 9x9 grid\n",
        "    initial_state = [\n",
        "        [5, 3, 0, 0, 7, 0, 0, 0, 0],\n",
        "        [6, 0, 0, 1, 9, 5, 0, 0, 0],\n",
        "        [0, 9, 8, 0, 0, 0, 0, 6, 0],\n",
        "        [8, 0, 0, 0, 6, 0, 0, 0, 3],\n",
        "        [4, 0, 0, 8, 0, 3, 0, 0, 1],\n",
        "        [7, 0, 0, 0, 2, 0, 0, 0, 6],\n",
        "        [0, 6, 0, 0, 0, 0, 2, 8, 0],\n",
        "        [0, 0, 0, 4, 1, 9, 0, 0, 5],\n",
        "        [0, 0, 0, 0, 8, 0, 0, 7, 9]\n",
        "    ]\n",
        "\n",
        "    # Add constraints to fix the values in the initial state of the Sudoku puzzle\n",
        "    for i in rows:\n",
        "        for j in cols:\n",
        "            val = initial_state[i - 1][j - 1]\n",
        "            if val != 0:\n",
        "                sudoku_problem += sudoku_vars[val][i][j] == 1\n",
        "\n",
        "    # Solve the Sudoku problem\n",
        "    sudoku_problem.solve()\n",
        "\n",
        "    # Calculate and print the sum of numbers in the middle box\n",
        "    middle_box_sum = sum([num * value(sudoku_vars[num][i][j]) for num in numbers for i in range(4, 7) for j in range(4, 7)])\n",
        "    print(f\"Sum of numbers in the middle box: {middle_box_sum}\")\n",
        "\n",
        "    print()\n",
        "    # Print the solved Sudoku puzzle\n",
        "    for i in rows:\n",
        "        row_values = []\n",
        "        for j in cols:\n",
        "            for num in numbers:\n",
        "                if value(sudoku_vars[num][i][j]) == 1:\n",
        "                    row_values.append(num)\n",
        "        print(row_values)\n",
        "\n",
        "# Call the solve_sudoku function to solve and print the Sudoku puzzle\n",
        "solve_sudoku_middlebox()\n"
      ]
    },
    {
      "cell_type": "markdown",
      "metadata": {
        "id": "w2jr2wvxYoeJ"
      },
      "source": [
        "SUDOKU C"
      ]
    },
    {
      "cell_type": "code",
      "execution_count": null,
      "metadata": {
        "colab": {
          "base_uri": "https://localhost:8080/"
        },
        "id": "MeyMLhMDqbTD",
        "outputId": "17b3eeb9-4709-4846-c6b8-3bca06777059"
      },
      "outputs": [
        {
          "name": "stdout",
          "output_type": "stream",
          "text": [
            "[5, 3, 9, 9, 7, 1, 1, 1, 1]\n",
            "[6, 1, 1, 1, 9, 5, 9, 1, 1]\n",
            "[1, 9, 8, 1, 1, 9, 1, 6, 1]\n",
            "[8, 9, 1, 9, 6, 1, 1, 1, 3]\n",
            "[4, 1, 1, 8, 1, 3, 9, 9, 1]\n",
            "[7, 9, 1, 1, 2, 1, 9, 1, 6]\n",
            "[1, 6, 9, 1, 1, 1, 2, 8, 9]\n",
            "[1, 1, 9, 4, 1, 9, 1, 1, 5]\n",
            "[1, 1, 1, 1, 8, 9, 1, 7, 9]\n",
            "\n",
            "Number of digit 9 used in sudoku: 18\n"
          ]
        }
      ],
      "source": [
        "from pulp import LpProblem, LpVariable, LpMaximize, lpSum, value\n",
        "\n",
        "# Function to solve the Sudoku problem\n",
        "def solve_sudoku_nines():\n",
        "    # Sudoku problem\n",
        "    sudoku_problem = LpProblem(\"Sudoku_Problem\", sense=LpMaximize)\n",
        "\n",
        "    # Variables for a 9x9 Sudoku matrix\n",
        "    numbers = list(range(1, 10))\n",
        "    rows = list(range(1, 10))\n",
        "    cols = list(range(1, 10))\n",
        "    sudoku_vars = LpVariable.dicts(\"Number\", (numbers, rows, cols), cat=\"Binary\")\n",
        "\n",
        "    # Objective function\n",
        "    sudoku_problem += lpSum([sudoku_vars[9][i][j] for i in rows for j in cols])    # Each cell can have only one number\n",
        "\n",
        "    for i in rows:\n",
        "        for j in cols:\n",
        "            sudoku_problem += lpSum([sudoku_vars[num][i][j] for num in numbers]) == 1\n",
        "\n",
        "    # Constraints\n",
        "    for i in rows:\n",
        "        sudoku_problem += lpSum([num * sudoku_vars[num][i][j] for num in numbers for j in cols]) <= 40\n",
        "\n",
        "    for j in cols:\n",
        "        sudoku_problem += lpSum([num * sudoku_vars[num][i][j] for num in numbers for i in rows]) <= 40\n",
        "\n",
        "    # Sudoku initial state\n",
        "    initial_state = [\n",
        "        [5, 3, 0, 0, 7, 0, 0, 0, 0],\n",
        "        [6, 0, 0, 1, 9, 5, 0, 0, 0],\n",
        "        [0, 9, 8, 0, 0, 0, 0, 6, 0],\n",
        "        [8, 0, 0, 0, 6, 0, 0, 0, 3],\n",
        "        [4, 0, 0, 8, 0, 3, 0, 0, 1],\n",
        "        [7, 0, 0, 0, 2, 0, 0, 0, 6],\n",
        "        [0, 6, 0, 0, 0, 0, 2, 8, 0],\n",
        "        [0, 0, 0, 4, 1, 9, 0, 0, 5],\n",
        "        [0, 0, 0, 0, 8, 0, 0, 7, 9]\n",
        "    ]\n",
        "\n",
        "    # Add the initial state\n",
        "    for i in rows:\n",
        "        for j in cols:\n",
        "            val = initial_state[i - 1][j - 1]\n",
        "            if val != 0:\n",
        "                sudoku_problem += sudoku_vars[val][i][j] == 1\n",
        "\n",
        "    # Solve the problem\n",
        "    sudoku_problem.solve()\n",
        "\n",
        "    # Print the solution\n",
        "    for i in rows:\n",
        "        row_values = []\n",
        "        for j in cols:\n",
        "            for num in numbers:\n",
        "                if value(sudoku_vars[num][i][j]) == 1:\n",
        "                    row_values.append(num)\n",
        "        print(row_values)\n",
        "\n",
        "    # Blank line for better readibility\n",
        "    print()\n",
        "\n",
        "    # Count the number of 9s used\n",
        "    num_of_nines = sum([1 for r in rows for c in cols if value(sudoku_vars[9][r][c]) == 1])\n",
        "    print(\"Number of digit 9 used in sudoku:\", num_of_nines)\n",
        "\n",
        "\n",
        "# Solve the Sudoku\n",
        "solve_sudoku_nines()\n"
      ]
    }
  ],
  "metadata": {
    "colab": {
      "provenance": []
    },
    "kernelspec": {
      "display_name": "Python 3",
      "name": "python3"
    },
    "language_info": {
      "name": "python"
    }
  },
  "nbformat": 4,
  "nbformat_minor": 0
}
